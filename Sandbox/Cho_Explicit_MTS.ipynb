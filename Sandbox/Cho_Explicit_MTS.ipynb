{
 "cells": [
  {
   "cell_type": "code",
   "execution_count": 7,
   "metadata": {},
   "outputs": [],
   "source": [
    "# Libraries\n",
    "import numpy as np\n",
    "import matplotlib.pyplot as plt"
   ]
  },
  {
   "cell_type": "markdown",
   "metadata": {},
   "source": [
    "# Explicit Multistep Time Integration\n",
    "\n",
    "In this notebook we look to replicate the multistep time integration for two-dimensional heterogeneous solids from the following paper\n",
    "\n",
    "Reference: Cho, S. S., Kolman, R., González, J. A., & Park, K. C. (2019). Explicit multistep time integration for discontinuous elastic stress wave propagation in heterogeneous solids. International Journal for Numerical Methods in Engineering, 118(5), 276-302\n",
    "\n",
    "## List of Symbols\n",
    "- $\\mathbf{B}_i$: Boolean matrices extracting interfaces DOFs for each domain\n",
    "- $f$: frame\n",
    "- $i$: Subdomain (either L or S)\n",
    "- $k$: Order of the sub-step in the S-domain during a time step in the L-domain\n",
    "- $\\mathbf{L}_i$: Boolean matrices relating interface DOFs to global acceleration and displacement\n",
    "- $m$: Ratio of the two time steps (and is INTEGER)\n",
    "- $N$: Number of Large time steps\n",
    "- $j$: $k/m$ \n",
    "- $j_o$: $k-1/m$\n",
    "- $\\alpha$: Ratio of time step and the Critical time step\n",
    "- $\\beta$: Parameter relating $\\alpha$ and $\\theta$\n",
    "- $\\gamma$: ??\n",
    "- $\\lambda$: Interface reaction force (Lagrange Multiplier)\n",
    "- $\\theta$: \"Pushforward pullback\" parameter $ \\in[0,1](\\theta=1/2$ for averaged displacement and $\\theta = 0$ for CDM)\n",
    "\n"
   ]
  },
  {
   "cell_type": "markdown",
   "metadata": {},
   "source": [
    "Start of Main Step $n=1:N$ on L-Domain\n",
    "\n",
    "Step 1: Prepare $(\\mathbf{u}_L^n , \\dot{\\mathbf{u}}_L^n , \\ddot{\\mathbf{u}}_L^n)$"
   ]
  },
  {
   "cell_type": "markdown",
   "metadata": {},
   "source": [
    "Start of Substep $k = 1:m$ on S-Domain\n",
    "\n",
    "Step 2: Integrate Small-Domain\n",
    "\n",
    "Prepare $(\\mathbf{u}_S^{n+j_o} , \\dot{\\mathbf{u}}_S^{n+j_o} , \\ddot{\\mathbf{u}}_S^{n+j_o})$\n",
    "\n",
    "where $j_o = \\frac{k-1}{m}$ for $ k = 1,2,...,m$ the k-th integration sub-step in the S-domain \n",
    "\n",
    "Step 2.1.1 Compute $(\\mathbf{\\lambda}_S^{n+jC_s})$\n",
    "\n",
    "$\\begin{array}{l}\n",
    "\\Delta t \\triangleq \\Delta t_{C S} \\\\\n",
    "\\mathbf{u}_S^{n+j C_S}=\\tilde{\\mathbf{u}}_S^{n+j C_S}-\\beta_{2 S}\\left(\\Delta t_{C S}\\right)^2 \\mathbf{M}_S^{-1} \\mathbf{B}_S \\boldsymbol{\\lambda}_S^{n+j C_S} \\\\\n",
    "\\tilde{\\mathbf{u}}_S^{n+j C_S}=\\mathbf{u}_S^{n+j_o}+\\Delta t_{C S} \\dot{\\mathbf{u}}_S^{n+j_o}+\\beta_{1 S}\\left(\\Delta t_{C S}\\right)^2 \\ddot{\\mathbf{u}}_S^{n+\\left(j_o\\right.}+\\beta_{2 S}\\left(\\Delta t_{C S}\\right)^2 \\tilde{\\mathbf{u}}_S^{n+j C_S} \\\\\n",
    "\\mathbf{u}_f^{n+j C_S}=\\mathbf{u}_f^{n+j_o}+\\Delta t_{C S} \\dot{\\mathbf{u}}_f^{n+j_o}+\\frac{1}{2}\\left(\\Delta t_{C S}\\right)^2 \\ddot{\\mathbf{u}}_f^{n+j_o} \\\\\n",
    "\\boldsymbol{\\lambda}_S^{n+j C_S}=\\left[\\beta_{2 S}\\left(\\Delta t_{C S}\\right)^2 \\mathbf{B}_S^T \\mathbf{M}_S^{-1} \\mathbf{B}_S\\right]^{-1}\\left(\\mathbf{B}_S^T \\tilde{\\mathbf{u}}_S^{n+j C_S}-\\mathbf{L}_S \\mathbf{u}_f^{n+j C_S}\\right)\n",
    "\\end{array}$"
   ]
  },
  {
   "cell_type": "code",
   "execution_count": 8,
   "metadata": {},
   "outputs": [],
   "source": [
    "# Small Interface Loads\n",
    "dt_critical_S = 0.1\n",
    "dt = dt_critical_S\n",
    "disp_S = np.zeros(2)\n",
    "unconstrained_disp_S = np.zeros(2)\n",
    "disp_f_L = np.zeros(2)\n",
    "lambda_S = np.zeros(2)\n"
   ]
  },
  {
   "cell_type": "markdown",
   "metadata": {},
   "source": [
    "Step 2.1.2 Compute $(\\mathbf{\\lambda}_S^{n+jC_L})$\n",
    "\n",
    "for $k = 1:$\n",
    "$\\begin{array}{l}\n",
    "\\Delta t \\triangleq \\Delta t_{C L} \\\\\n",
    "\\mathbf{u}_L^{n+C_L}=\\tilde{\\mathbf{u}}_L^{n+C_L}-\\beta_{2 L}\\left(\\Delta t_{C L}\\right)^2 \\mathbf{M}_L^{-1} \\mathbf{B}_L \\boldsymbol{\\lambda}_L^{n+C_L} \\\\\n",
    "\\tilde{\\mathbf{u}}_L^{n+C_L}=\\mathbf{u}_S^n+\\Delta t_{C L} \\dot{\\mathbf{u}}_L^n+\\beta_{1 L}\\left(\\Delta t_{C L}\\right)^2 \\ddot{\\mathbf{u}}_L^{n)}+\\beta_{2 L}\\left(\\Delta t_{C L}\\right)^2 \\tilde{\\mathbf{u}}_L^{n+C_L} \\\\\n",
    "\\mathbf{u}_f^{n+C_L}=\\mathbf{u}_f^n+\\Delta t_{C L} \\dot{\\mathbf{u}}_f^n+\\frac{1}{2}\\left(\\Delta t_{C L}\\right)^2 \\ddot{\\mathbf{u}}_f^n \\\\\n",
    "\\boldsymbol{\\lambda}_L^{n+C_L}=\\left[\\beta_{2 L}\\left(\\Delta t_{C L}\\right)^2 \\mathbf{B}_L^T \\mathbf{M}_L^{-1} \\mathbf{B}_L\\right]^{-1}\\left(\\mathbf{B}_L^T \\tilde{\\mathbf{u}}_L^{n+C_L}-\\mathbf{L}_L \\mathbf{u}_f^{n+C_L}\\right)\n",
    "\\end{array}$\n",
    "\n",
    "for $k = 2:m:$\n",
    "$\\begin{array}{l}\n",
    "\\Delta t \\triangleq(k-1) \\Delta t_S \\\\\n",
    "\\mathbf{u}_L^{n+C_L}=\\tilde{\\mathbf{u}}_L^{n+C_L}-\\beta_{2 L}\\left(\\Delta t_{C L}\\right)^2 \\mathbf{M}_L^{-1} \\mathbf{B}_L \\boldsymbol{\\lambda}_L^{n+C_L} \\\\\n",
    "\\tilde{\\mathbf{u}}_L^{n+C_L}=\\mathbf{u}_L^n+\\Delta t_{C L} \\dot{\\mathbf{u}}_L^n+\\beta_{1 L}\\left(\\Delta t_{C L}\\right)^2 \\ddot{\\mathbf{u}}_L^{n)}+\\beta_{2 L}\\left(\\Delta t_{C L}\\right)^2 \\tilde{\\mathbf{u}}_L^{n+C_L} \\\\\n",
    "\\mathbf{L}_S \\mathbf{u}_f^{n+j}=\\mathbf{B}_S^T \\mathbf{u}_S^{n+j} \\\\\n",
    "\\boldsymbol{\\lambda}_L^{n+C_L}=\\left[\\beta_{2 L}\\left(\\Delta t_{C L}\\right)^2 \\mathbf{B}_L^T \\mathbf{M}_L^{-1} \\mathbf{B}_L\\right]^{-1}\\left(\\mathbf{B}_L^T \\tilde{\\mathbf{u}}_L^{n+C_L}-\\mathbf{L}_L \\mathbf{u}_f^{n+C_L}\\right)\n",
    "\\end{array}$\n"
   ]
  },
  {
   "cell_type": "code",
   "execution_count": 9,
   "metadata": {},
   "outputs": [],
   "source": [
    "# Large Interface Loads\n",
    "dt_critical_L = 0.1\n",
    "dt_L = dt_critical_L\n",
    "disp_L = np.zeros(2)\n",
    "unconstrained_disp_L = np.zeros(2)\n",
    "disp_f_L = np.zeros(2)\n",
    "lambda_L = np.zeros(2)"
   ]
  },
  {
   "cell_type": "markdown",
   "metadata": {},
   "source": [
    "Step 2.1.3: Compute $(\\mathbf{\\lambda}_S^{n+j} , \\mathbf{\\lambda}_L^{n+j} , \\ddot{\\mathbf{u}}_f^{n+j})$ at the interface $\\Gamma_I$\n",
    "\n",
    "$\\mathbf{\\lambda}_S^{n+j} = (\\mathbf{B}^T_S \\mathbf{M}_S^{-1} \\mathbf{B}_S)^{-1} [\\mathbf{B}_S^T \\tilde{\\ddot{u}}_S^{n+j} - \\mathbf{L}_S \\mathbf{u}_f^{n+j}]$ (Eq.48)\n",
    "\n",
    "$\\left[\\begin{array}{c}\n",
    "\\boldsymbol{\\lambda}_L \\\\\n",
    "\\ddot{\\mathbf{u}}_f\n",
    "\\end{array}\\right]^{n+j}=\\left[\\begin{array}{cc}\n",
    "\\mathbf{B}_L^T \\mathbf{M}_L^{-1} \\mathbf{B}_L & \\mathbf{L}_L \\\\\n",
    "\\mathbf{L}_L^T & -\\mathbf{L}_S^T\\left(\\mathbf{B}_S^T \\mathbf{M}_S^{-1} \\mathbf{B}_S\\right)^{-1} \\mathbf{L}_S\n",
    "\\end{array}\\right]^{-1}\\left[\\begin{array}{c}\n",
    "\\mathbf{B}_L^T \\tilde{\\ddot{\\mathbf{u}}}_L^{n+j} \\\\\n",
    "-\\mathbf{L}_S^T\\left(\\mathbf{B}_S^T \\mathbf{M}_S^{-1} \\mathbf{B}_S\\right)^{-1} \\mathbf{B}_S^T \\tilde{\\mathbf{u}}_S^{n+j}\n",
    "\\end{array}\\right]$"
   ]
  },
  {
   "cell_type": "code",
   "execution_count": null,
   "metadata": {},
   "outputs": [],
   "source": [
    "# Initialise Frame Variables \n",
    "lambda_S = np.zeros(2)\n",
    "lambda_L = np.zeros(2)\n",
    "acc_f = np.zeros(2)"
   ]
  },
  {
   "cell_type": "markdown",
   "metadata": {},
   "source": [
    "Step 2.2 Compute $(\\dot{\\mathbf{u}}_S^{n+j}, \\ddot{\\mathbf{u}}_S^{n+j})$\n",
    "\n",
    "$\\begin{array}{l}\n",
    "\\ddot{\\mathbf{u}}_S^{n+j}=\\tilde{\\mathbf{u}}_S^{n+j}-\\mathbf{M}_S^{-1} \\mathbf{B}_S \\boldsymbol{\\lambda}_S^{n+j} \\\\\n",
    "\\dot{\\mathbf{u}}_S^{n+j}=\\dot{\\mathbf{u}}_S^{n+(j-1)}+\\Delta t_S\\left\\{(1-\\gamma) \\ddot{\\mathbf{u}}_S^{n+(j-1)}+\\gamma \\ddot{\\mathbf{u}}_S^{n+j}\\right\\}\n",
    "\\end{array}$"
   ]
  },
  {
   "cell_type": "code",
   "execution_count": null,
   "metadata": {},
   "outputs": [],
   "source": [
    "# Initialise Small Velocities and Small Accelerations\n",
    "vel_S = np.zeros(2)\n",
    "acc_S = np.zeros(2)"
   ]
  },
  {
   "cell_type": "markdown",
   "metadata": {},
   "source": [
    "Step 2.3 Update $(\\mathbf{u}_f^{n+j} , \\dot{\\mathbf{u}}_f^{n+j})$ at the interface $\\Gamma_I$\n",
    "\n",
    "$\\begin{array}{l}\n",
    "\\dot{\\mathbf{u}}_f^{n+j}=\\dot{\\mathbf{u}}_f^{n+(j-1)}+\\Delta t_S\\left\\{(1-\\gamma) \\ddot{\\mathbf{u}}_f^{n+(j-1)}+\\gamma \\ddot{\\mathbf{u}}_f^{n+j}\\right\\} \\\\\n",
    "\\mathbf{u}_f^{n+j}=\\mathbf{u}_f^{n+(j-1)}+\\Delta t_S \\dot{\\mathbf{u}}_f^{n+j}\n",
    "\\end{array}$"
   ]
  },
  {
   "cell_type": "code",
   "execution_count": null,
   "metadata": {},
   "outputs": [],
   "source": [
    "# Initialise Frame displacements and velocities\n",
    "vel_f = np.zeros(2)\n",
    "disp_f = np.zeros(2)\n",
    "\n",
    "# End of Substep on S-Domain"
   ]
  },
  {
   "cell_type": "markdown",
   "metadata": {},
   "source": [
    "Step 3: Integrate Large-Domain\n",
    "\n",
    "Step 3.1: Compute $(\\dot{\\mathbf{u}}_L^{n+1} , \\ddot{\\mathbf{u}}_L^{n+1})$ on entire L-Domain\n",
    "\n",
    "$\\begin{array}{l}\n",
    "\\ddot{\\mathbf{u}}_L^{n+1}=\\tilde{\\mathbf{u}}_L^{n+1}-\\mathbf{M}_L^{-1} \\mathbf{B}_L \\boldsymbol{\\lambda}_L^{n+1} \\\\\n",
    "\\dot{\\mathbf{u}}_L^{n+1}=\\dot{\\mathbf{u}}_L^n+\\Delta t_L\\left\\{(1-\\gamma) \\ddot{\\mathbf{u}}_L^n+\\gamma \\ddot{\\mathbf{u}}_L^{n+1}\\right\\}\n",
    "\\end{array}$"
   ]
  },
  {
   "cell_type": "code",
   "execution_count": null,
   "metadata": {},
   "outputs": [],
   "source": [
    "# Initialise Large Accelerations and Large Velocities\n",
    "accel_L = np.zeros(2)\n",
    "vel_L = np.zeros(2)"
   ]
  },
  {
   "cell_type": "markdown",
   "metadata": {},
   "source": [
    "Step 3.2 Update $(\\mathbf{u}_L^{n+1} , \\dot{\\mathbf{u}}_L^{n+1})$ only at the interface $\\Gamma_I$ to prevent drifting of the interface\n",
    "\n",
    "$\\mathbf{L}_L \\mathbf{u}_L^{n+1}=\\mathbf{B}_L^T \\mathbf{u}_f^{n+1}$\n",
    "\n",
    "$\\mathbf{L}_L \\dot{\\mathbf{u}}_L^{n+1}=\\mathbf{B}_L^T \\dot{\\mathbf{u}}_f^{n+1}$"
   ]
  },
  {
   "cell_type": "code",
   "execution_count": null,
   "metadata": {},
   "outputs": [],
   "source": [
    "# Enforce continuity of displacements and velocities\n",
    "disp_L = np.zeros(2)\n",
    "vel_L = np.zeros(2)\n",
    "\n",
    "# End of Main Step on L-Domain"
   ]
  }
 ],
 "metadata": {
  "kernelspec": {
   "display_name": "base",
   "language": "python",
   "name": "python3"
  },
  "language_info": {
   "codemirror_mode": {
    "name": "ipython",
    "version": 3
   },
   "file_extension": ".py",
   "mimetype": "text/x-python",
   "name": "python",
   "nbconvert_exporter": "python",
   "pygments_lexer": "ipython3",
   "version": "3.8.5"
  }
 },
 "nbformat": 4,
 "nbformat_minor": 2
}
