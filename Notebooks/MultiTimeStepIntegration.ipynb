{
 "cells": [
  {
   "cell_type": "markdown",
   "metadata": {},
   "source": [
    "# 1D Wave Propagation through a Heterogeneous Domain\n",
    "\n",
    "In this notebook, we no longer solve domains monolithically (single time step), we introduce the concept of multi time\n",
    "stepping with an algorithm that calls two instances of the Simple Integrator for two individually solved subdomains\n",
    "\n",
    "## Multi-Time Step Integration \n",
    "This module describes a multi-time step integration algorithm for two subdomains through enforcing\n",
    "continuity of acceleration across the interface of subdomains"
   ]
  },
  {
   "cell_type": "code",
   "execution_count": null,
   "metadata": {},
   "outputs": [],
   "source": [
    "import numpy as np\n",
    "import matplotlib.pyplot as plt\n",
    "import imageio \n",
    "import sys\n",
    "import os\n",
    "sys.path.append('..')\n",
    "from SimpleIntegrator import SimpleIntegrator\n",
    "from BoundaryConditions import VelBoundaryConditions as vbc\n",
    "from BoundaryConditions import AccelBoundaryConditions as abc\n"
   ]
  },
  {
   "cell_type": "markdown",
   "metadata": {},
   "source": [
    "## Create a Multi Time Step Class\n",
    "\n",
    "We create a module for Integrating with Multiple Time Steps\n",
    "It contains the following methods:\n",
    " - Calculation of Time Step Ratios\n",
    " - Handling of the Integration between both subdomains\n",
    " "
   ]
  },
  {
   "cell_type": "code",
   "execution_count": null,
   "metadata": {},
   "outputs": [],
   "source": [
    "class MultiTimeStep:\n",
    "\n",
    "    \"\"\"\n",
    "    Constructor for the subcycling class\n",
    "    It accepts two domains a large and a small one\n",
    "    They are both SimpleIntegrators, and they ratio is a non-integer number:\n",
    "    LARGE     |   SMALL\n",
    "    *----*----*--*--*--*--*\n",
    "    \"\"\"\n",
    "    def __init__(self, largeDomain: SimpleIntegrator, smallDomain: SimpleIntegrator):\n",
    "        \n",
    "        self.large = largeDomain\n",
    "        self.small = smallDomain\n",
    "        self.large.mass[-1] += self.small.mass[0] \n",
    "        # Time step Ratio Computations\n",
    "        self.large_tpredicted = 0.0\n",
    "        self.small_tpredicted = 0.0\n",
    "        self.nextTimeStepRatio = 0.0 \n",
    "        self.currTimeStepRatio = 0.0\n",
    "        # Pullback Values\n",
    "        self.large_alpha = 0.0\n",
    "        self.small_alpha = 0.0\n",
    "\n",
    "    def calc_timestep_ratios(self):\n",
    "        self.small_tpredicted = self.small.t + self.small.dt\n",
    "        self.large_tpredicted = self.large.t + self.large.dt\n",
    "        self.currTimeStepRatio = (self.small.t - self.large.t) / (self.large_tpredicted - self.large.t)\n",
    "        self.nextTimeStepRatio = ((self.small.t + self.small.dt) - self.large.t) / (self.large_tpredicted - self.large.t)\n",
    "\n",
    "    def integrate(self):\n",
    "    \n",
    "        if ((self.large.t == 0) and (self.small.t == 0)):\n",
    "            self.small.assemble_internal()\n",
    "            self.large.assemble_internal()\n",
    "            self.large.f_int[-1] += self.small.f_int[0]\n",
    "            self.calc_timestep_ratios()\n",
    "\n",
    "        while (self.nextTimeStepRatio <= 1 or (self.currTimeStepRatio <= 1 and self.nextTimeStepRatio <= 1.000001)):\n",
    "            largeForce = self.large.f_int[-1]\n",
    "            largeMass = self.large.mass[-1]\n",
    "            def accelCoupling(): return -largeForce / largeMass\n",
    "\n",
    "            self.small.a_bc.indexes.append(0)\n",
    "            self.small.a_bc.accelerations.append(accelCoupling)\n",
    "\n",
    "            self.small.single_tstep_integrate()\n",
    "            self.small.assemble_internal()\n",
    "            self.calc_timestep_ratios()\n",
    "\n",
    "        # Compute Pullback Values\n",
    "        self.alpha_L = 1 - ((self.large_tpredicted - self.small.t)/(self.large_tpredicted - self.large.t))\n",
    "        self.alpha_s = 1 - ((self.small_tpredicted - self.large_tpredicted)/(self.small_tpredicted - self.small.t))\n",
    "\n",
    "        if (self.alpha_L >= self.alpha_s):\n",
    "            self.large.dt = self.alpha_L * self.large.dt\n",
    "        elif (self.alpha_s > self.alpha_L):\n",
    "            self.small.dt = self.alpha_s * self.small.dt\n",
    "\n",
    "        self.large.single_tstep_integrate()\n",
    "        self.large.assemble_internal()        \n",
    "        self.calc_timestep_ratios()\n",
    "\n",
    "        self.large.f_int[-1] += self.small.f_int[0]"
   ]
  },
  {
   "cell_type": "markdown",
   "metadata": {},
   "source": [
    "## Output Plots for Multi Time Step Class\n",
    "\n",
    "A Class is created to plot the FEM 1D Problems for the Heterogeneous Domain Case\n",
    "This includes the creation of a plot for:\n",
    " - Velocity throughout the domain (.gif)"
   ]
  }
 ],
 "metadata": {
  "kernelspec": {
   "display_name": "base",
   "language": "python",
   "name": "python3"
  },
  "language_info": {
   "name": "python",
   "version": "3.8.5"
  },
  "orig_nbformat": 4
 },
 "nbformat": 4,
 "nbformat_minor": 2
}
